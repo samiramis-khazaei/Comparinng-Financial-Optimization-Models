{
  "cells": [
    {
      "cell_type": "markdown",
      "metadata": {
        "id": "X0VorsLtdlec"
      },
      "source": [
        "Part Two: Analysis the portfolios in different time horizons"
      ]
    },
    {
      "cell_type": "code",
      "execution_count": 1,
      "metadata": {
        "colab": {
          "base_uri": "https://localhost:8080/"
        },
        "id": "b8J8Zqb6dlep",
        "outputId": "8ae7ffb8-7441-4fdc-e62c-237e21474e43"
      },
      "outputs": [
        {
          "output_type": "stream",
          "name": "stdout",
          "text": [
            "Looking in indexes: https://pypi.org/simple, https://us-python.pkg.dev/colab-wheels/public/simple/\n",
            "Requirement already satisfied: cvxpy in /usr/local/lib/python3.10/dist-packages (1.3.1)\n",
            "Requirement already satisfied: osqp>=0.4.1 in /usr/local/lib/python3.10/dist-packages (from cvxpy) (0.6.2.post8)\n",
            "Requirement already satisfied: ecos>=2 in /usr/local/lib/python3.10/dist-packages (from cvxpy) (2.0.12)\n",
            "Requirement already satisfied: scs>=1.1.6 in /usr/local/lib/python3.10/dist-packages (from cvxpy) (3.2.3)\n",
            "Requirement already satisfied: numpy>=1.15 in /usr/local/lib/python3.10/dist-packages (from cvxpy) (1.22.4)\n",
            "Requirement already satisfied: scipy>=1.1.0 in /usr/local/lib/python3.10/dist-packages (from cvxpy) (1.10.1)\n",
            "Requirement already satisfied: setuptools>65.5.1 in /usr/local/lib/python3.10/dist-packages (from cvxpy) (67.7.2)\n",
            "Requirement already satisfied: qdldl in /usr/local/lib/python3.10/dist-packages (from osqp>=0.4.1->cvxpy) (0.1.7)\n"
          ]
        }
      ],
      "source": [
        "# import Libraries\n",
        "import yfinance as yf\n",
        "import pandas as pd\n",
        "import numpy as np\n",
        "import matplotlib.pyplot as plt\n",
        "! pip install cvxpy\n",
        "import cvxpy as cp\n",
        "from scipy.optimize import minimize\n",
        "import seaborn as sns\n",
        "import warnings\n",
        "warnings.simplefilter(\"ignore\")"
      ]
    },
    {
      "cell_type": "code",
      "execution_count": 3,
      "metadata": {
        "id": "uqrEQ4wwdlev"
      },
      "outputs": [],
      "source": [
        "# import data\n",
        "tickers = [\"F\", \"CAT\", \"DIS\",\"MCD\",\"KO\",\"PEP\",\"WMT\",\"C\",\"WFC\",\"JPM\",\"AAPL\",\"IBM\",\"PFE\",\"JNJ\",\"XOM\",\n",
        "           \"MRO\",\"ED\",\"T\",\"VZ\",\"NEM\"]\n",
        "riskfreerate_tickers = \"^TYX\""
      ]
    },
    {
      "cell_type": "code",
      "execution_count": 4,
      "metadata": {
        "id": "DaP907uHdlew"
      },
      "outputs": [],
      "source": [
        "def data (ticker,start_date,end_date): \n",
        "    data = yf.download(tickers, start=start_date, end=end_date, progress=False)\n",
        "    monthly_data = data[\"Adj Close\"].resample(\"M\").last()\n",
        "    monthly_returns = (monthly_data.pct_change()*100).dropna()\n",
        "    mu = monthly_returns.mean()\n",
        "    std = monthly_returns.std()\n",
        "    Q = monthly_returns.cov()\n",
        "    correlation = np.corrcoef(monthly_returns, rowvar=False)\n",
        "    return mu,std,Q ,monthly_returns,correlation   "
      ]
    },
    {
      "cell_type": "code",
      "execution_count": 5,
      "metadata": {
        "id": "zxmwpXewdley"
      },
      "outputs": [],
      "source": [
        "def risk_free_rate (riskfreerate_tickers,start_date,end_date):\n",
        "    risk_free_rate = yf.download(riskfreerate_tickers, start=start_date, end=end_date, progress=False)\n",
        "    riskFreeRate = risk_free_rate[\"Adj Close\"].resample(\"M\").last()\n",
        "    riskFreeRate = (riskFreeRate.pct_change()*100).dropna()\n",
        "    mu_rfr = riskFreeRate.mean()\n",
        "    return mu_rfr"
      ]
    },
    {
      "cell_type": "markdown",
      "metadata": {
        "id": "7QCGJUBsdle0"
      },
      "source": [
        "### Financail Models"
      ]
    },
    {
      "cell_type": "markdown",
      "metadata": {
        "id": "PSIMIUZIdle2"
      },
      "source": [
        "#### (1) Mean-variance optimization (MVO)\n"
      ]
    },
    {
      "cell_type": "markdown",
      "metadata": {
        "id": "Kskb5Zerdle3"
      },
      "source": [
        "\\begin{equation}\n",
        "\\begin{array}{rl}\n",
        "\\displaystyle \\max_{x} & \\mu^Tx - λx^TQx \\\\\n",
        "{\\rm s.t.} & \\ 1^Tx = 1\\\\\n",
        "\\end{array}\n",
        "\\end{equation}"
      ]
    },
    {
      "cell_type": "code",
      "execution_count": 6,
      "metadata": {
        "id": "BkK_nylddle6"
      },
      "outputs": [],
      "source": [
        "def MVOM(mu, lambda_val, Q):\n",
        "    n = len(mu)\n",
        "\n",
        "    # Define the objective function\n",
        "    def objective(x, mu, Q, lambda_val):\n",
        "        return -np.dot(mu, x) + lambda_val * np.dot(x.T, np.dot(Q, x))\n",
        "\n",
        "    # Define the equality constraint function\n",
        "    def constraint(x):\n",
        "        return np.sum(x) - 1\n",
        "\n",
        "    # Define the initial guess for x\n",
        "    \n",
        "    x0 = np.random.random(n) \n",
        "\n",
        "    # Define the bounds for x variables\n",
        "    bounds =[(0, None)] * n  \n",
        "\n",
        "    # Define the constraints\n",
        "    constraints = [{'type': 'eq', 'fun': constraint}]\n",
        "\n",
        "    # Solve the optimization problem\n",
        "    result = minimize(objective, x0, args=(mu, Q, lambda_val), method='SLSQP', constraints=constraints, bounds=bounds)\n",
        "    x_optimal = result.x\n",
        "\n",
        "    return np.round(x_optimal, decimals=5)\n"
      ]
    },
    {
      "cell_type": "markdown",
      "metadata": {
        "id": "bSxYmcbidle9"
      },
      "source": [
        "#### (2) Robust mean-variance optimization "
      ]
    },
    {
      "cell_type": "markdown",
      "metadata": {
        "id": "ZBIfVT1Bdle_"
      },
      "source": [
        "\\begin{equation}\n",
        "\\begin{array}{rl}\n",
        "\\displaystyle \\max_{x,y} & \\mu^Tx - λx^TQx - a^Ty \\\\\n",
        "{\\rm s.t.} & \\ 1^Tx = 1\\\\\n",
        "& y \\geq x\\\\\n",
        "& y \\geq -x\\\\\n",
        "\\end{array}\n",
        "\\end{equation}"
      ]
    },
    {
      "cell_type": "code",
      "execution_count": 7,
      "metadata": {
        "id": "vrM9Y7oBdlfA"
      },
      "outputs": [],
      "source": [
        "def RMVOM (mu, Q, lambda_val, a): \n",
        "\n",
        "    def objective(x, y, mu, Q, lambda_val, a):\n",
        "        return -(np.dot(mu, x) - lambda_val * np.dot(np.dot(x, Q), x) - np.dot(a, y))\n",
        "\n",
        "    def constraint1(x):\n",
        "        return np.sum(x) - 1\n",
        "\n",
        "    def constraint2(x, y):\n",
        "        return y - x\n",
        "\n",
        "    def constraint3(x, y):\n",
        "        return y + x\n",
        "\n",
        "# Define the initial guess for x and y\n",
        "    n = 20  # number of assets\n",
        "    np.random.seed(123)\n",
        "    x0 =np.random.random(n)\n",
        "    y0 = np.random.random(n)\n",
        "\n",
        "# Define the bounds for x and y variables\n",
        "    bounds = [(-np.inf, np.inf)] * n\n",
        "\n",
        "# Define the constraints\n",
        "    constraints = [{'type': 'eq', 'fun': constraint1},\n",
        "    {'type': 'ineq', 'fun': constraint2, 'args': (x0,)},\n",
        "    {'type': 'ineq', 'fun': constraint3, 'args': (x0,)}]\n",
        "\n",
        "# Solve the optimization problem\n",
        "    result = minimize(objective, x0, args=(y0, mu, Q, lambda_val, a), method='SLSQP', constraints=constraints, bounds=bounds)\n",
        "\n",
        "# Extract the optimal solution\n",
        "    x_optimal = result.x\n",
        "    \n",
        "    return np.round(x_optimal, decimals=5)   "
      ]
    },
    {
      "cell_type": "markdown",
      "metadata": {
        "id": "4qsvsUXtdlfC"
      },
      "source": [
        "#### (3) Risk Parity optimization (with no short selling)"
      ]
    },
    {
      "cell_type": "markdown",
      "metadata": {
        "id": "Stp3hQxsdlfD"
      },
      "source": [
        "\\begin{equation}\n",
        "\\begin{array}{rl}\n",
        "\\displaystyle \\min_{x,θ} & \\ ∑ (xi(Qx)i - θ)^2  \\\\\n",
        "{\\rm s.t.} & \\ 1^Tx = 1\\\\\n",
        "& x \\geq 0\n",
        "\\end{array}\n",
        "\\end{equation}"
      ]
    },
    {
      "cell_type": "code",
      "execution_count": 8,
      "metadata": {
        "id": "hMah1BoPdlfE"
      },
      "outputs": [],
      "source": [
        "# Define the objective function\n",
        "def RPM (Q): \n",
        "    def objective(x, Q):\n",
        "        θ = np.mean(x * (Q @ x))\n",
        "        return np.sum((x * (Q @ x) - θ)**2)\n",
        "\n",
        "# Define the equality constraint function\n",
        "    def constraint(x):\n",
        "        return np.sum(x) - 1\n",
        "\n",
        "# Define the inequality constraint function\n",
        "    def inequality_constraint(x):\n",
        "        return x\n",
        "\n",
        "# Define the initial guess for x\n",
        "    n = Q.shape[0]  # Number of assets\n",
        "    x0 = np.ones(n) / n\n",
        "\n",
        "# Define the bounds for x variables\n",
        "    bounds = [(0, None)] * n\n",
        "\n",
        "# Define the constraints\n",
        "    constraints = [{'type': 'eq', 'fun': constraint},\n",
        "               {'type': 'ineq', 'fun': inequality_constraint}]\n",
        "\n",
        "# Solve the optimization problem\n",
        "    result = minimize(objective, x0, args=(Q,), method='SLSQP', constraints=constraints, bounds=bounds)\n",
        "\n",
        "# Extract the optimal solution\n",
        "    x_optimal = result.x\n",
        "    θ_optimal = np.mean(x_optimal * (Q @ x_optimal))\n",
        "\n",
        "    return np.round(x_optimal, decimals=5)    "
      ]
    },
    {
      "cell_type": "markdown",
      "metadata": {
        "id": "ISO8V7cRdlfG"
      },
      "source": [
        "#### (4)Market Portfolio"
      ]
    },
    {
      "cell_type": "code",
      "execution_count": 9,
      "metadata": {
        "id": "H6esgerLdlfG"
      },
      "outputs": [],
      "source": [
        "# import Market capitalizations of each stock to calculate market wights, market variance and market return \n",
        "market_capitalizations = {'AAPL': 2620000000000,'C': 86825000000,'CAT': 109362000000,'DIS': 161332000000,\n",
        "    'ED': 32121000000,'F': 48369000000,'IBM': 117038000000,'JNJ': 401114000000,'JPM': 400178000000,\n",
        "    'KO': 260599000000,'MCD': 208836000000,'MRO': 14365000000,'NEM': 32330000000,'PEP': 252916000000,\n",
        "    'PFE': 212264000000,'T': 110810000000,'VZ': 147140000000,'WFC': 154704000000,'WMT': 394946000000,\n",
        "    'XOM': 424392000000}\n",
        "def Market_portfolio (market_capitalizations,Q,mu):\n",
        "    total_market_cap = sum(market_capitalizations.values())\n",
        "    weights = np.array([cap / total_market_cap for cap in market_capitalizations.values()])\n",
        "    wmkt= weights.tolist()\n",
        "    marketVariance =np.dot(wmkt, np.dot(Q, wmkt))\n",
        "    marketReturn = np.dot(mu, wmkt)\n",
        "    return wmkt,marketVariance,marketReturn"
      ]
    },
    {
      "cell_type": "markdown",
      "metadata": {
        "id": "PZDWBUd5dlf1"
      },
      "source": [
        "#### Part Two: January 2011 to June 2011"
      ]
    },
    {
      "cell_type": "code",
      "source": [
        "def portfolios(weights,mu, cov_matrix):\n",
        "    portfolio_return= np.sum(mu*weights)\n",
        "    portfolio_variance = weights.T @ (weights@ cov_matrix)\n",
        "    portfolio_std = portfolio_variance ** 0.5\n",
        "    sharpe_ratio =  portfolio_return/portfolio_std\n",
        "    print (\"portfolio_return =\" ,portfolio_return,\"portfolio_variance=\",portfolio_variance,\n",
        "           \"portfolio_std=\" ,portfolio_std,\"sharpe_ratio=\" ,sharpe_ratio)\n",
        "    return portfolio_return,portfolio_variance,portfolio_std,sharpe_ratio"
      ],
      "metadata": {
        "id": "FtYvFNreX81t"
      },
      "execution_count": 10,
      "outputs": []
    },
    {
      "cell_type": "code",
      "execution_count": 11,
      "metadata": {
        "id": "bgRagEggdlf2"
      },
      "outputs": [],
      "source": [
        "def data_3 (mu,Q,riskfreerate_2,wmkt,monthly_return,lambda_val,b,b_2): \n",
        "    por_weight_1_1 = MVOM(mu,lambda_val,Q)\n",
        "    por_weight_2_1 = RMVOM (mu, Q, lambda_val, b)\n",
        "    por_weight_2_2 = RMVOM (mu, Q, lambda_val, b_2)\n",
        "    por_weight_3 = RPM (Q)\n",
        "    por_weight_4=np.array(wmkt)\n",
        "    portfolio_1 = portfolios(por_weight_1_1,monthly_return, Q)\n",
        "    portfolio_2_1 = portfolios(por_weight_2_1,monthly_return,Q)\n",
        "    portfolio_2_2 = portfolios(por_weight_2_2,monthly_return,Q)\n",
        "    portfolio_3 = portfolios(por_weight_3,monthly_return,Q)\n",
        "    portfolio_market = portfolios(por_weight_4,monthly_return,Q)\n",
        "    portfolio = pd.DataFrame ({\"Return\":[portfolio_1[0],portfolio_2_1[0],portfolio_2_2[0],portfolio_3[0],portfolio_market[0]],\n",
        "                           \"Variance\":[portfolio_1[1],portfolio_2_1[1],portfolio_2_2[1],portfolio_3[1],portfolio_market[1]],\n",
        "                           \"Standard Deviation\":[portfolio_1[2],portfolio_2_1[2],portfolio_2_2[2],portfolio_3[2],portfolio_market[2]],\n",
        "                           \"Sharpe Ratio\": [portfolio_1[3],portfolio_2_1[3],portfolio_2_2[3],portfolio_3[3],portfolio_market[3]]})\n",
        "    portfolio_month = portfolio.rename(index={0: 'Mean Variance',\n",
        "                                   1:\"Robust Mean Varian(90%)\",\n",
        "                                   2:\"Robust Mean Varian(95%)\",\n",
        "                                   3: \"Risk Parity\",\n",
        "                                   4: \"Market\"})\n",
        "    return portfolio_month"
      ]
    },
    {
      "cell_type": "code",
      "execution_count": 12,
      "metadata": {
        "id": "-8QNTkbsdlf3"
      },
      "outputs": [],
      "source": [
        "start_date = \"2010-12-31\"\n",
        "end_date = \"2011-07-01\"\n",
        "data_2 = data(tickers,start_date,end_date)\n",
        "riskfreerate_2 = risk_free_rate(riskfreerate_tickers,start_date,end_date)"
      ]
    },
    {
      "cell_type": "code",
      "execution_count": 13,
      "metadata": {
        "id": "QFa1HWngdlf3"
      },
      "outputs": [],
      "source": [
        "Q2 = data_2[2]\n",
        "std2 = data_2[1]\n",
        "mu2 = data_2[0]"
      ]
    },
    {
      "cell_type": "code",
      "source": [
        "market_portfolio = Market_portfolio (market_capitalizations,Q2,mu2)\n",
        "wmkt = market_portfolio[0]\n",
        "marketVariance = market_portfolio[1]\n",
        "marketReturn = market_portfolio[2]"
      ],
      "metadata": {
        "id": "DJXujQ9fXTYz"
      },
      "execution_count": 14,
      "outputs": []
    },
    {
      "cell_type": "code",
      "source": [
        "λ = (marketReturn-riskfreerate_2)/marketVariance\n",
        "lambda_val=λ\n",
        "lambda_val"
      ],
      "metadata": {
        "colab": {
          "base_uri": "https://localhost:8080/"
        },
        "id": "yzDZs3cYS7Ai",
        "outputId": "9d7d0ebc-cadd-47ed-ead7-b738fb8eb10c"
      },
      "execution_count": 15,
      "outputs": [
        {
          "output_type": "execute_result",
          "data": {
            "text/plain": [
              "0.1333739482835388"
            ]
          },
          "metadata": {},
          "execution_count": 15
        }
      ]
    },
    {
      "cell_type": "code",
      "execution_count": 16,
      "metadata": {
        "id": "Ff4RzQ7kdlf5"
      },
      "outputs": [],
      "source": [
        "start_date = \"2011-06-29\"\n",
        "end_date = \"2011-08-01\"\n",
        "return_July_2011= data (tickers,start_date,end_date)\n",
        "return_July_2011 = return_July_2011[0]"
      ]
    },
    {
      "cell_type": "code",
      "execution_count": 17,
      "metadata": {
        "id": "pp5NbLledlf4"
      },
      "outputs": [],
      "source": [
        "n=20\n",
        "b = np.zeros((n, n))\n",
        "for i in range(n):\n",
        "    b[i, i] = std2[i] / (6 ** 0.5)\n",
        "b = 1.6448536269514722* b\n",
        "b = np.diag(b)\n",
        "b_2 = 1.96* b"
      ]
    },
    {
      "cell_type": "code",
      "execution_count": 18,
      "metadata": {
        "id": "BVgX-BYWdlf6",
        "colab": {
          "base_uri": "https://localhost:8080/",
          "height": 295
        },
        "outputId": "4ece75d6-04d2-4d58-b0fb-6004a47ff5ba"
      },
      "outputs": [
        {
          "output_type": "stream",
          "name": "stdout",
          "text": [
            "portfolio_return = 1.1180341092717476 portfolio_variance= 3.3410853290631986 portfolio_std= 1.8278635969522448 sharpe_ratio= 0.6116616749389521\n",
            "portfolio_return = -9.436949429873575 portfolio_variance= 6.917516726775648 portfolio_std= 2.630117245823016 sharpe_ratio= -3.5880337444502652\n",
            "portfolio_return = -9.436949429873575 portfolio_variance= 6.917516726775648 portfolio_std= 2.630117245823016 sharpe_ratio= -3.5880337444502652\n",
            "portfolio_return = -1.119543342126598 portfolio_variance= 1.5418438875663445 portfolio_std= 1.2417100658230746 sharpe_ratio= -0.9016141311413967\n",
            "portfolio_return = 5.62937572890909 portfolio_variance= 5.771313864169868 portfolio_std= 2.4023558987314657 sharpe_ratio= 2.3432730062525757\n"
          ]
        },
        {
          "output_type": "execute_result",
          "data": {
            "text/plain": [
              "                           Return  Variance  Standard Deviation  Sharpe Ratio\n",
              "Mean Variance            1.118034  3.341085            1.827864      0.611662\n",
              "Robust Mean Varian(90%) -9.436949  6.917517            2.630117     -3.588034\n",
              "Robust Mean Varian(95%) -9.436949  6.917517            2.630117     -3.588034\n",
              "Risk Parity             -1.119543  1.541844            1.241710     -0.901614\n",
              "Market                   5.629376  5.771314            2.402356      2.343273"
            ],
            "text/html": [
              "\n",
              "  <div id=\"df-f9494a94-8a32-4cd9-854a-a0100da04f56\">\n",
              "    <div class=\"colab-df-container\">\n",
              "      <div>\n",
              "<style scoped>\n",
              "    .dataframe tbody tr th:only-of-type {\n",
              "        vertical-align: middle;\n",
              "    }\n",
              "\n",
              "    .dataframe tbody tr th {\n",
              "        vertical-align: top;\n",
              "    }\n",
              "\n",
              "    .dataframe thead th {\n",
              "        text-align: right;\n",
              "    }\n",
              "</style>\n",
              "<table border=\"1\" class=\"dataframe\">\n",
              "  <thead>\n",
              "    <tr style=\"text-align: right;\">\n",
              "      <th></th>\n",
              "      <th>Return</th>\n",
              "      <th>Variance</th>\n",
              "      <th>Standard Deviation</th>\n",
              "      <th>Sharpe Ratio</th>\n",
              "    </tr>\n",
              "  </thead>\n",
              "  <tbody>\n",
              "    <tr>\n",
              "      <th>Mean Variance</th>\n",
              "      <td>1.118034</td>\n",
              "      <td>3.341085</td>\n",
              "      <td>1.827864</td>\n",
              "      <td>0.611662</td>\n",
              "    </tr>\n",
              "    <tr>\n",
              "      <th>Robust Mean Varian(90%)</th>\n",
              "      <td>-9.436949</td>\n",
              "      <td>6.917517</td>\n",
              "      <td>2.630117</td>\n",
              "      <td>-3.588034</td>\n",
              "    </tr>\n",
              "    <tr>\n",
              "      <th>Robust Mean Varian(95%)</th>\n",
              "      <td>-9.436949</td>\n",
              "      <td>6.917517</td>\n",
              "      <td>2.630117</td>\n",
              "      <td>-3.588034</td>\n",
              "    </tr>\n",
              "    <tr>\n",
              "      <th>Risk Parity</th>\n",
              "      <td>-1.119543</td>\n",
              "      <td>1.541844</td>\n",
              "      <td>1.241710</td>\n",
              "      <td>-0.901614</td>\n",
              "    </tr>\n",
              "    <tr>\n",
              "      <th>Market</th>\n",
              "      <td>5.629376</td>\n",
              "      <td>5.771314</td>\n",
              "      <td>2.402356</td>\n",
              "      <td>2.343273</td>\n",
              "    </tr>\n",
              "  </tbody>\n",
              "</table>\n",
              "</div>\n",
              "      <button class=\"colab-df-convert\" onclick=\"convertToInteractive('df-f9494a94-8a32-4cd9-854a-a0100da04f56')\"\n",
              "              title=\"Convert this dataframe to an interactive table.\"\n",
              "              style=\"display:none;\">\n",
              "        \n",
              "  <svg xmlns=\"http://www.w3.org/2000/svg\" height=\"24px\"viewBox=\"0 0 24 24\"\n",
              "       width=\"24px\">\n",
              "    <path d=\"M0 0h24v24H0V0z\" fill=\"none\"/>\n",
              "    <path d=\"M18.56 5.44l.94 2.06.94-2.06 2.06-.94-2.06-.94-.94-2.06-.94 2.06-2.06.94zm-11 1L8.5 8.5l.94-2.06 2.06-.94-2.06-.94L8.5 2.5l-.94 2.06-2.06.94zm10 10l.94 2.06.94-2.06 2.06-.94-2.06-.94-.94-2.06-.94 2.06-2.06.94z\"/><path d=\"M17.41 7.96l-1.37-1.37c-.4-.4-.92-.59-1.43-.59-.52 0-1.04.2-1.43.59L10.3 9.45l-7.72 7.72c-.78.78-.78 2.05 0 2.83L4 21.41c.39.39.9.59 1.41.59.51 0 1.02-.2 1.41-.59l7.78-7.78 2.81-2.81c.8-.78.8-2.07 0-2.86zM5.41 20L4 18.59l7.72-7.72 1.47 1.35L5.41 20z\"/>\n",
              "  </svg>\n",
              "      </button>\n",
              "      \n",
              "  <style>\n",
              "    .colab-df-container {\n",
              "      display:flex;\n",
              "      flex-wrap:wrap;\n",
              "      gap: 12px;\n",
              "    }\n",
              "\n",
              "    .colab-df-convert {\n",
              "      background-color: #E8F0FE;\n",
              "      border: none;\n",
              "      border-radius: 50%;\n",
              "      cursor: pointer;\n",
              "      display: none;\n",
              "      fill: #1967D2;\n",
              "      height: 32px;\n",
              "      padding: 0 0 0 0;\n",
              "      width: 32px;\n",
              "    }\n",
              "\n",
              "    .colab-df-convert:hover {\n",
              "      background-color: #E2EBFA;\n",
              "      box-shadow: 0px 1px 2px rgba(60, 64, 67, 0.3), 0px 1px 3px 1px rgba(60, 64, 67, 0.15);\n",
              "      fill: #174EA6;\n",
              "    }\n",
              "\n",
              "    [theme=dark] .colab-df-convert {\n",
              "      background-color: #3B4455;\n",
              "      fill: #D2E3FC;\n",
              "    }\n",
              "\n",
              "    [theme=dark] .colab-df-convert:hover {\n",
              "      background-color: #434B5C;\n",
              "      box-shadow: 0px 1px 3px 1px rgba(0, 0, 0, 0.15);\n",
              "      filter: drop-shadow(0px 1px 2px rgba(0, 0, 0, 0.3));\n",
              "      fill: #FFFFFF;\n",
              "    }\n",
              "  </style>\n",
              "\n",
              "      <script>\n",
              "        const buttonEl =\n",
              "          document.querySelector('#df-f9494a94-8a32-4cd9-854a-a0100da04f56 button.colab-df-convert');\n",
              "        buttonEl.style.display =\n",
              "          google.colab.kernel.accessAllowed ? 'block' : 'none';\n",
              "\n",
              "        async function convertToInteractive(key) {\n",
              "          const element = document.querySelector('#df-f9494a94-8a32-4cd9-854a-a0100da04f56');\n",
              "          const dataTable =\n",
              "            await google.colab.kernel.invokeFunction('convertToInteractive',\n",
              "                                                     [key], {});\n",
              "          if (!dataTable) return;\n",
              "\n",
              "          const docLinkHtml = 'Like what you see? Visit the ' +\n",
              "            '<a target=\"_blank\" href=https://colab.research.google.com/notebooks/data_table.ipynb>data table notebook</a>'\n",
              "            + ' to learn more about interactive tables.';\n",
              "          element.innerHTML = '';\n",
              "          dataTable['output_type'] = 'display_data';\n",
              "          await google.colab.output.renderOutput(dataTable, element);\n",
              "          const docLink = document.createElement('div');\n",
              "          docLink.innerHTML = docLinkHtml;\n",
              "          element.appendChild(docLink);\n",
              "        }\n",
              "      </script>\n",
              "    </div>\n",
              "  </div>\n",
              "  "
            ]
          },
          "metadata": {},
          "execution_count": 18
        }
      ],
      "source": [
        "data_Jan_June= data_3(mu2,Q2,riskfreerate_2,wmkt,return_July_2011,lambda_val,b,b_2)\n",
        "data_Jan_June"
      ]
    },
    {
      "cell_type": "markdown",
      "metadata": {
        "id": "p7GqJC8Hdlf7"
      },
      "source": [
        "#### April 2011 to July 2011"
      ]
    },
    {
      "cell_type": "code",
      "execution_count": 19,
      "metadata": {
        "id": "H7CJvyekdlf8"
      },
      "outputs": [],
      "source": [
        "start_date = \"2011-03-29\"\n",
        "end_date = \"2011-08-01\"\n",
        "data3 = data(tickers,start_date,end_date)\n",
        "riskfreerate_3 = risk_free_rate(riskfreerate_tickers,start_date,end_date)"
      ]
    },
    {
      "cell_type": "code",
      "execution_count": 20,
      "metadata": {
        "id": "k4TsLJ1bdlf9"
      },
      "outputs": [],
      "source": [
        "start_date = \"2011-07-29\"\n",
        "end_date = \"2011-09-01\"\n",
        "return_Aug_2011= data (tickers,start_date,end_date)\n",
        "return_Aug_2011= return_Aug_2011[0]"
      ]
    },
    {
      "cell_type": "code",
      "execution_count": 21,
      "metadata": {
        "id": "dYKwLtjmdlf-"
      },
      "outputs": [],
      "source": [
        "Q3 = data3[2]\n",
        "std3 = data3[1]\n",
        "mu3 = data3[0]"
      ]
    },
    {
      "cell_type": "code",
      "source": [
        "market_portfolio = Market_portfolio (market_capitalizations,Q3,mu3)\n",
        "wmkt = market_portfolio[0]\n",
        "marketVariance = market_portfolio[1]\n",
        "marketReturn = market_portfolio[2]"
      ],
      "metadata": {
        "id": "OgMR4WZ_eUmb"
      },
      "execution_count": 22,
      "outputs": []
    },
    {
      "cell_type": "code",
      "source": [
        "λ = (marketReturn-riskfreerate_3)/marketVariance\n",
        "lambda_val=λ"
      ],
      "metadata": {
        "id": "jydiA_pBebZa"
      },
      "execution_count": 23,
      "outputs": []
    },
    {
      "cell_type": "code",
      "execution_count": 24,
      "metadata": {
        "id": "aFqI3M1mdlf_"
      },
      "outputs": [],
      "source": [
        "c = np.zeros((n, n))\n",
        "for i in range(n):\n",
        "    c[i, i] = std3[i] / (4 ** 0.5)\n",
        "c = 1.6448536269514722* c\n",
        "c = np.diag(c)\n",
        "c_2 = 1.96* c"
      ]
    },
    {
      "cell_type": "code",
      "execution_count": 25,
      "metadata": {
        "id": "246UVBzbdlgA",
        "colab": {
          "base_uri": "https://localhost:8080/",
          "height": 295
        },
        "outputId": "de5b1fb6-6ec8-4408-daa0-198deabdae46"
      },
      "outputs": [
        {
          "output_type": "stream",
          "name": "stdout",
          "text": [
            "portfolio_return = 3.4734493598738823 portfolio_variance= 0.16410678287683045 portfolio_std= 0.4051009539322642 sharpe_ratio= 8.574280870379456\n",
            "portfolio_return = 32.529171005626864 portfolio_variance= 1.159972686694464 portfolio_std= 1.0770202814684893 sharpe_ratio= 30.202932633055138\n",
            "portfolio_return = 32.529171005626864 portfolio_variance= 1.159972686694464 portfolio_std= 1.0770202814684893 sharpe_ratio= 30.202932633055138\n",
            "portfolio_return = 3.664464375900742 portfolio_variance= 1.6546718053010233e-07 portfolio_std= 0.00040677657323167266 sharpe_ratio= 9008.543306189142\n",
            "portfolio_return = -1.8313801594607133 portfolio_variance= 12.746511634181187 portfolio_std= 3.5702257119377183 sharpe_ratio= -0.5129592096480485\n"
          ]
        },
        {
          "output_type": "execute_result",
          "data": {
            "text/plain": [
              "                            Return      Variance  Standard Deviation  \\\n",
              "Mean Variance             3.473449  1.641068e-01            0.405101   \n",
              "Robust Mean Varian(90%)  32.529171  1.159973e+00            1.077020   \n",
              "Robust Mean Varian(95%)  32.529171  1.159973e+00            1.077020   \n",
              "Risk Parity               3.664464  1.654672e-07            0.000407   \n",
              "Market                   -1.831380  1.274651e+01            3.570226   \n",
              "\n",
              "                         Sharpe Ratio  \n",
              "Mean Variance                8.574281  \n",
              "Robust Mean Varian(90%)     30.202933  \n",
              "Robust Mean Varian(95%)     30.202933  \n",
              "Risk Parity               9008.543306  \n",
              "Market                      -0.512959  "
            ],
            "text/html": [
              "\n",
              "  <div id=\"df-a049bf5a-530d-4aac-8923-f276eb283dd9\">\n",
              "    <div class=\"colab-df-container\">\n",
              "      <div>\n",
              "<style scoped>\n",
              "    .dataframe tbody tr th:only-of-type {\n",
              "        vertical-align: middle;\n",
              "    }\n",
              "\n",
              "    .dataframe tbody tr th {\n",
              "        vertical-align: top;\n",
              "    }\n",
              "\n",
              "    .dataframe thead th {\n",
              "        text-align: right;\n",
              "    }\n",
              "</style>\n",
              "<table border=\"1\" class=\"dataframe\">\n",
              "  <thead>\n",
              "    <tr style=\"text-align: right;\">\n",
              "      <th></th>\n",
              "      <th>Return</th>\n",
              "      <th>Variance</th>\n",
              "      <th>Standard Deviation</th>\n",
              "      <th>Sharpe Ratio</th>\n",
              "    </tr>\n",
              "  </thead>\n",
              "  <tbody>\n",
              "    <tr>\n",
              "      <th>Mean Variance</th>\n",
              "      <td>3.473449</td>\n",
              "      <td>1.641068e-01</td>\n",
              "      <td>0.405101</td>\n",
              "      <td>8.574281</td>\n",
              "    </tr>\n",
              "    <tr>\n",
              "      <th>Robust Mean Varian(90%)</th>\n",
              "      <td>32.529171</td>\n",
              "      <td>1.159973e+00</td>\n",
              "      <td>1.077020</td>\n",
              "      <td>30.202933</td>\n",
              "    </tr>\n",
              "    <tr>\n",
              "      <th>Robust Mean Varian(95%)</th>\n",
              "      <td>32.529171</td>\n",
              "      <td>1.159973e+00</td>\n",
              "      <td>1.077020</td>\n",
              "      <td>30.202933</td>\n",
              "    </tr>\n",
              "    <tr>\n",
              "      <th>Risk Parity</th>\n",
              "      <td>3.664464</td>\n",
              "      <td>1.654672e-07</td>\n",
              "      <td>0.000407</td>\n",
              "      <td>9008.543306</td>\n",
              "    </tr>\n",
              "    <tr>\n",
              "      <th>Market</th>\n",
              "      <td>-1.831380</td>\n",
              "      <td>1.274651e+01</td>\n",
              "      <td>3.570226</td>\n",
              "      <td>-0.512959</td>\n",
              "    </tr>\n",
              "  </tbody>\n",
              "</table>\n",
              "</div>\n",
              "      <button class=\"colab-df-convert\" onclick=\"convertToInteractive('df-a049bf5a-530d-4aac-8923-f276eb283dd9')\"\n",
              "              title=\"Convert this dataframe to an interactive table.\"\n",
              "              style=\"display:none;\">\n",
              "        \n",
              "  <svg xmlns=\"http://www.w3.org/2000/svg\" height=\"24px\"viewBox=\"0 0 24 24\"\n",
              "       width=\"24px\">\n",
              "    <path d=\"M0 0h24v24H0V0z\" fill=\"none\"/>\n",
              "    <path d=\"M18.56 5.44l.94 2.06.94-2.06 2.06-.94-2.06-.94-.94-2.06-.94 2.06-2.06.94zm-11 1L8.5 8.5l.94-2.06 2.06-.94-2.06-.94L8.5 2.5l-.94 2.06-2.06.94zm10 10l.94 2.06.94-2.06 2.06-.94-2.06-.94-.94-2.06-.94 2.06-2.06.94z\"/><path d=\"M17.41 7.96l-1.37-1.37c-.4-.4-.92-.59-1.43-.59-.52 0-1.04.2-1.43.59L10.3 9.45l-7.72 7.72c-.78.78-.78 2.05 0 2.83L4 21.41c.39.39.9.59 1.41.59.51 0 1.02-.2 1.41-.59l7.78-7.78 2.81-2.81c.8-.78.8-2.07 0-2.86zM5.41 20L4 18.59l7.72-7.72 1.47 1.35L5.41 20z\"/>\n",
              "  </svg>\n",
              "      </button>\n",
              "      \n",
              "  <style>\n",
              "    .colab-df-container {\n",
              "      display:flex;\n",
              "      flex-wrap:wrap;\n",
              "      gap: 12px;\n",
              "    }\n",
              "\n",
              "    .colab-df-convert {\n",
              "      background-color: #E8F0FE;\n",
              "      border: none;\n",
              "      border-radius: 50%;\n",
              "      cursor: pointer;\n",
              "      display: none;\n",
              "      fill: #1967D2;\n",
              "      height: 32px;\n",
              "      padding: 0 0 0 0;\n",
              "      width: 32px;\n",
              "    }\n",
              "\n",
              "    .colab-df-convert:hover {\n",
              "      background-color: #E2EBFA;\n",
              "      box-shadow: 0px 1px 2px rgba(60, 64, 67, 0.3), 0px 1px 3px 1px rgba(60, 64, 67, 0.15);\n",
              "      fill: #174EA6;\n",
              "    }\n",
              "\n",
              "    [theme=dark] .colab-df-convert {\n",
              "      background-color: #3B4455;\n",
              "      fill: #D2E3FC;\n",
              "    }\n",
              "\n",
              "    [theme=dark] .colab-df-convert:hover {\n",
              "      background-color: #434B5C;\n",
              "      box-shadow: 0px 1px 3px 1px rgba(0, 0, 0, 0.15);\n",
              "      filter: drop-shadow(0px 1px 2px rgba(0, 0, 0, 0.3));\n",
              "      fill: #FFFFFF;\n",
              "    }\n",
              "  </style>\n",
              "\n",
              "      <script>\n",
              "        const buttonEl =\n",
              "          document.querySelector('#df-a049bf5a-530d-4aac-8923-f276eb283dd9 button.colab-df-convert');\n",
              "        buttonEl.style.display =\n",
              "          google.colab.kernel.accessAllowed ? 'block' : 'none';\n",
              "\n",
              "        async function convertToInteractive(key) {\n",
              "          const element = document.querySelector('#df-a049bf5a-530d-4aac-8923-f276eb283dd9');\n",
              "          const dataTable =\n",
              "            await google.colab.kernel.invokeFunction('convertToInteractive',\n",
              "                                                     [key], {});\n",
              "          if (!dataTable) return;\n",
              "\n",
              "          const docLinkHtml = 'Like what you see? Visit the ' +\n",
              "            '<a target=\"_blank\" href=https://colab.research.google.com/notebooks/data_table.ipynb>data table notebook</a>'\n",
              "            + ' to learn more about interactive tables.';\n",
              "          element.innerHTML = '';\n",
              "          dataTable['output_type'] = 'display_data';\n",
              "          await google.colab.output.renderOutput(dataTable, element);\n",
              "          const docLink = document.createElement('div');\n",
              "          docLink.innerHTML = docLinkHtml;\n",
              "          element.appendChild(docLink);\n",
              "        }\n",
              "      </script>\n",
              "    </div>\n",
              "  </div>\n",
              "  "
            ]
          },
          "metadata": {},
          "execution_count": 25
        }
      ],
      "source": [
        "data_April_July = data_3(mu3,Q3,riskfreerate_3,wmkt,return_Aug_2011,lambda_val,c,c_2)\n",
        "data_April_July"
      ]
    },
    {
      "cell_type": "markdown",
      "metadata": {
        "id": "vFNAypkrdlgA"
      },
      "source": [
        "#####  May 2011 to August 2011"
      ]
    },
    {
      "cell_type": "code",
      "execution_count": 26,
      "metadata": {
        "id": "uvZxJvajdlgB"
      },
      "outputs": [],
      "source": [
        "start_date = \"2011-04-27\"\n",
        "end_date = \"2011-09-01\"\n",
        "data4 = data(tickers,start_date,end_date)\n",
        "riskfreerate_4 = risk_free_rate(riskfreerate_tickers,start_date,end_date)"
      ]
    },
    {
      "cell_type": "code",
      "execution_count": 27,
      "metadata": {
        "id": "zmhxW9xKdlgC"
      },
      "outputs": [],
      "source": [
        "start_date = \"2011-08-29\"\n",
        "end_date = \"2011-10-01\"\n",
        "return_Sep_2011= data (tickers,start_date,end_date)\n",
        "return_Sep_2011 = return_Sep_2011[0]"
      ]
    },
    {
      "cell_type": "code",
      "execution_count": 28,
      "metadata": {
        "id": "KTrWKypidlgD"
      },
      "outputs": [],
      "source": [
        "Q4 = data4[2]\n",
        "std4 = data4[1]\n",
        "mu4 = data4[0]\n",
        "\n",
        "market_portfolio = Market_portfolio (market_capitalizations,Q4,mu4)\n",
        "wmkt = market_portfolio[0]\n",
        "marketVariance = market_portfolio[1]\n",
        "marketReturn = market_portfolio[2]\n",
        "\n",
        "λ = (marketReturn-riskfreerate_4)/marketVariance\n",
        "lambda_val=λ\n",
        "\n",
        "d = np.zeros((n, n))\n",
        "for i in range(n):\n",
        "    d[i, i] = std4[i] / (4 ** 0.5)\n",
        "d = 1.6448536269514722* d\n",
        "d = np.diag(d)\n",
        "d_2 = 1.96* d"
      ]
    },
    {
      "cell_type": "code",
      "execution_count": 29,
      "metadata": {
        "id": "JLVffFUfdlgE",
        "colab": {
          "base_uri": "https://localhost:8080/",
          "height": 295
        },
        "outputId": "e69423a7-84dc-4edb-b8bc-ea441f23a243"
      },
      "outputs": [
        {
          "output_type": "stream",
          "name": "stdout",
          "text": [
            "portfolio_return = -2.716388099982544 portfolio_variance= 0.719329500440114 portfolio_std= 0.8481329497432074 sharpe_ratio= -3.2027857198626646\n",
            "portfolio_return = 29.128668143553163 portfolio_variance= 1.9847191512180187 portfolio_std= 1.4088006073316475 sharpe_ratio= 20.676217764219025\n",
            "portfolio_return = 29.128668143553163 portfolio_variance= 1.9847191512180187 portfolio_std= 1.4088006073316475 sharpe_ratio= 20.676217764219025\n",
            "portfolio_return = -5.861623828198251 portfolio_variance= 2.693179507422014e-07 portfolio_std= 0.0005189585250693946 sharpe_ratio= -11294.975503898777\n",
            "portfolio_return = -3.9205508530963846 portfolio_variance= 13.923519919760588 portfolio_std= 3.7314233101807934 sharpe_ratio= -1.050685094451647\n"
          ]
        },
        {
          "output_type": "execute_result",
          "data": {
            "text/plain": [
              "                            Return      Variance  Standard Deviation  \\\n",
              "Mean Variance            -2.716388  7.193295e-01            0.848133   \n",
              "Robust Mean Varian(90%)  29.128668  1.984719e+00            1.408801   \n",
              "Robust Mean Varian(95%)  29.128668  1.984719e+00            1.408801   \n",
              "Risk Parity              -5.861624  2.693180e-07            0.000519   \n",
              "Market                   -3.920551  1.392352e+01            3.731423   \n",
              "\n",
              "                         Sharpe Ratio  \n",
              "Mean Variance               -3.202786  \n",
              "Robust Mean Varian(90%)     20.676218  \n",
              "Robust Mean Varian(95%)     20.676218  \n",
              "Risk Parity             -11294.975504  \n",
              "Market                      -1.050685  "
            ],
            "text/html": [
              "\n",
              "  <div id=\"df-e2c0d183-1d87-4f86-9967-520fb7e36a6a\">\n",
              "    <div class=\"colab-df-container\">\n",
              "      <div>\n",
              "<style scoped>\n",
              "    .dataframe tbody tr th:only-of-type {\n",
              "        vertical-align: middle;\n",
              "    }\n",
              "\n",
              "    .dataframe tbody tr th {\n",
              "        vertical-align: top;\n",
              "    }\n",
              "\n",
              "    .dataframe thead th {\n",
              "        text-align: right;\n",
              "    }\n",
              "</style>\n",
              "<table border=\"1\" class=\"dataframe\">\n",
              "  <thead>\n",
              "    <tr style=\"text-align: right;\">\n",
              "      <th></th>\n",
              "      <th>Return</th>\n",
              "      <th>Variance</th>\n",
              "      <th>Standard Deviation</th>\n",
              "      <th>Sharpe Ratio</th>\n",
              "    </tr>\n",
              "  </thead>\n",
              "  <tbody>\n",
              "    <tr>\n",
              "      <th>Mean Variance</th>\n",
              "      <td>-2.716388</td>\n",
              "      <td>7.193295e-01</td>\n",
              "      <td>0.848133</td>\n",
              "      <td>-3.202786</td>\n",
              "    </tr>\n",
              "    <tr>\n",
              "      <th>Robust Mean Varian(90%)</th>\n",
              "      <td>29.128668</td>\n",
              "      <td>1.984719e+00</td>\n",
              "      <td>1.408801</td>\n",
              "      <td>20.676218</td>\n",
              "    </tr>\n",
              "    <tr>\n",
              "      <th>Robust Mean Varian(95%)</th>\n",
              "      <td>29.128668</td>\n",
              "      <td>1.984719e+00</td>\n",
              "      <td>1.408801</td>\n",
              "      <td>20.676218</td>\n",
              "    </tr>\n",
              "    <tr>\n",
              "      <th>Risk Parity</th>\n",
              "      <td>-5.861624</td>\n",
              "      <td>2.693180e-07</td>\n",
              "      <td>0.000519</td>\n",
              "      <td>-11294.975504</td>\n",
              "    </tr>\n",
              "    <tr>\n",
              "      <th>Market</th>\n",
              "      <td>-3.920551</td>\n",
              "      <td>1.392352e+01</td>\n",
              "      <td>3.731423</td>\n",
              "      <td>-1.050685</td>\n",
              "    </tr>\n",
              "  </tbody>\n",
              "</table>\n",
              "</div>\n",
              "      <button class=\"colab-df-convert\" onclick=\"convertToInteractive('df-e2c0d183-1d87-4f86-9967-520fb7e36a6a')\"\n",
              "              title=\"Convert this dataframe to an interactive table.\"\n",
              "              style=\"display:none;\">\n",
              "        \n",
              "  <svg xmlns=\"http://www.w3.org/2000/svg\" height=\"24px\"viewBox=\"0 0 24 24\"\n",
              "       width=\"24px\">\n",
              "    <path d=\"M0 0h24v24H0V0z\" fill=\"none\"/>\n",
              "    <path d=\"M18.56 5.44l.94 2.06.94-2.06 2.06-.94-2.06-.94-.94-2.06-.94 2.06-2.06.94zm-11 1L8.5 8.5l.94-2.06 2.06-.94-2.06-.94L8.5 2.5l-.94 2.06-2.06.94zm10 10l.94 2.06.94-2.06 2.06-.94-2.06-.94-.94-2.06-.94 2.06-2.06.94z\"/><path d=\"M17.41 7.96l-1.37-1.37c-.4-.4-.92-.59-1.43-.59-.52 0-1.04.2-1.43.59L10.3 9.45l-7.72 7.72c-.78.78-.78 2.05 0 2.83L4 21.41c.39.39.9.59 1.41.59.51 0 1.02-.2 1.41-.59l7.78-7.78 2.81-2.81c.8-.78.8-2.07 0-2.86zM5.41 20L4 18.59l7.72-7.72 1.47 1.35L5.41 20z\"/>\n",
              "  </svg>\n",
              "      </button>\n",
              "      \n",
              "  <style>\n",
              "    .colab-df-container {\n",
              "      display:flex;\n",
              "      flex-wrap:wrap;\n",
              "      gap: 12px;\n",
              "    }\n",
              "\n",
              "    .colab-df-convert {\n",
              "      background-color: #E8F0FE;\n",
              "      border: none;\n",
              "      border-radius: 50%;\n",
              "      cursor: pointer;\n",
              "      display: none;\n",
              "      fill: #1967D2;\n",
              "      height: 32px;\n",
              "      padding: 0 0 0 0;\n",
              "      width: 32px;\n",
              "    }\n",
              "\n",
              "    .colab-df-convert:hover {\n",
              "      background-color: #E2EBFA;\n",
              "      box-shadow: 0px 1px 2px rgba(60, 64, 67, 0.3), 0px 1px 3px 1px rgba(60, 64, 67, 0.15);\n",
              "      fill: #174EA6;\n",
              "    }\n",
              "\n",
              "    [theme=dark] .colab-df-convert {\n",
              "      background-color: #3B4455;\n",
              "      fill: #D2E3FC;\n",
              "    }\n",
              "\n",
              "    [theme=dark] .colab-df-convert:hover {\n",
              "      background-color: #434B5C;\n",
              "      box-shadow: 0px 1px 3px 1px rgba(0, 0, 0, 0.15);\n",
              "      filter: drop-shadow(0px 1px 2px rgba(0, 0, 0, 0.3));\n",
              "      fill: #FFFFFF;\n",
              "    }\n",
              "  </style>\n",
              "\n",
              "      <script>\n",
              "        const buttonEl =\n",
              "          document.querySelector('#df-e2c0d183-1d87-4f86-9967-520fb7e36a6a button.colab-df-convert');\n",
              "        buttonEl.style.display =\n",
              "          google.colab.kernel.accessAllowed ? 'block' : 'none';\n",
              "\n",
              "        async function convertToInteractive(key) {\n",
              "          const element = document.querySelector('#df-e2c0d183-1d87-4f86-9967-520fb7e36a6a');\n",
              "          const dataTable =\n",
              "            await google.colab.kernel.invokeFunction('convertToInteractive',\n",
              "                                                     [key], {});\n",
              "          if (!dataTable) return;\n",
              "\n",
              "          const docLinkHtml = 'Like what you see? Visit the ' +\n",
              "            '<a target=\"_blank\" href=https://colab.research.google.com/notebooks/data_table.ipynb>data table notebook</a>'\n",
              "            + ' to learn more about interactive tables.';\n",
              "          element.innerHTML = '';\n",
              "          dataTable['output_type'] = 'display_data';\n",
              "          await google.colab.output.renderOutput(dataTable, element);\n",
              "          const docLink = document.createElement('div');\n",
              "          docLink.innerHTML = docLinkHtml;\n",
              "          element.appendChild(docLink);\n",
              "        }\n",
              "      </script>\n",
              "    </div>\n",
              "  </div>\n",
              "  "
            ]
          },
          "metadata": {},
          "execution_count": 29
        }
      ],
      "source": [
        "data_May_Aug = data_3(mu4,Q4,riskfreerate_4,wmkt,return_Sep_2011,lambda_val, d,d_2)\n",
        "data_May_Aug"
      ]
    },
    {
      "cell_type": "markdown",
      "metadata": {
        "id": "C9o2YeGGdlgE"
      },
      "source": [
        "#### June 2011 to September 2011"
      ]
    },
    {
      "cell_type": "code",
      "execution_count": 30,
      "metadata": {
        "id": "GzOkko-sdlgF"
      },
      "outputs": [],
      "source": [
        "start_date = \"2011-04-29\"\n",
        "end_date = \"2011-10-01\"\n",
        "data5 = data(tickers,start_date,end_date)\n",
        "riskfreerate_5 = risk_free_rate(riskfreerate_tickers,start_date,end_date)"
      ]
    },
    {
      "cell_type": "code",
      "execution_count": 31,
      "metadata": {
        "id": "IBWJaGSGdlgG"
      },
      "outputs": [],
      "source": [
        "start_date = \"2011-09-29\"\n",
        "end_date = \"2011-11-01\"\n",
        "return_Oct_2011= data (tickers,start_date,end_date)\n",
        "return_Oct_2011=return_Oct_2011[0]"
      ]
    },
    {
      "cell_type": "code",
      "execution_count": 32,
      "metadata": {
        "id": "6ye43SpSdlgG",
        "colab": {
          "base_uri": "https://localhost:8080/",
          "height": 295
        },
        "outputId": "d31573c4-1591-49a4-b143-8d0dec6fb639"
      },
      "outputs": [
        {
          "output_type": "stream",
          "name": "stdout",
          "text": [
            "portfolio_return = 3.66617191304924 portfolio_variance= 0.34655233785903183 portfolio_std= 0.5886869608365993 sharpe_ratio= 6.227710407988554\n",
            "portfolio_return = -20.74304816300115 portfolio_variance= 1.2496078195366063 portfolio_std= 1.1178585865558337 sharpe_ratio= -18.556057458852013\n",
            "portfolio_return = -20.74304816300115 portfolio_variance= 1.2496078195366063 portfolio_std= 1.1178585865558337 sharpe_ratio= -18.556057458852013\n",
            "portfolio_return = 4.90964125229492 portfolio_variance= 7.559646308557571e-06 portfolio_std= 0.0027494810980542438 sharpe_ratio= 1785.6610310103172\n",
            "portfolio_return = 7.375674043147986 portfolio_variance= 13.727937997924533 portfolio_std= 3.7051232095470903 sharpe_ratio= 1.9906690347416487\n"
          ]
        },
        {
          "output_type": "execute_result",
          "data": {
            "text/plain": [
              "                            Return   Variance  Standard Deviation  \\\n",
              "Mean Variance             3.666172   0.346552            0.588687   \n",
              "Robust Mean Varian(90%) -20.743048   1.249608            1.117859   \n",
              "Robust Mean Varian(95%) -20.743048   1.249608            1.117859   \n",
              "Risk Parity               4.909641   0.000008            0.002749   \n",
              "Market                    7.375674  13.727938            3.705123   \n",
              "\n",
              "                         Sharpe Ratio  \n",
              "Mean Variance                6.227710  \n",
              "Robust Mean Varian(90%)    -18.556057  \n",
              "Robust Mean Varian(95%)    -18.556057  \n",
              "Risk Parity               1785.661031  \n",
              "Market                       1.990669  "
            ],
            "text/html": [
              "\n",
              "  <div id=\"df-f05ab516-906c-4350-9463-8b135a9ada18\">\n",
              "    <div class=\"colab-df-container\">\n",
              "      <div>\n",
              "<style scoped>\n",
              "    .dataframe tbody tr th:only-of-type {\n",
              "        vertical-align: middle;\n",
              "    }\n",
              "\n",
              "    .dataframe tbody tr th {\n",
              "        vertical-align: top;\n",
              "    }\n",
              "\n",
              "    .dataframe thead th {\n",
              "        text-align: right;\n",
              "    }\n",
              "</style>\n",
              "<table border=\"1\" class=\"dataframe\">\n",
              "  <thead>\n",
              "    <tr style=\"text-align: right;\">\n",
              "      <th></th>\n",
              "      <th>Return</th>\n",
              "      <th>Variance</th>\n",
              "      <th>Standard Deviation</th>\n",
              "      <th>Sharpe Ratio</th>\n",
              "    </tr>\n",
              "  </thead>\n",
              "  <tbody>\n",
              "    <tr>\n",
              "      <th>Mean Variance</th>\n",
              "      <td>3.666172</td>\n",
              "      <td>0.346552</td>\n",
              "      <td>0.588687</td>\n",
              "      <td>6.227710</td>\n",
              "    </tr>\n",
              "    <tr>\n",
              "      <th>Robust Mean Varian(90%)</th>\n",
              "      <td>-20.743048</td>\n",
              "      <td>1.249608</td>\n",
              "      <td>1.117859</td>\n",
              "      <td>-18.556057</td>\n",
              "    </tr>\n",
              "    <tr>\n",
              "      <th>Robust Mean Varian(95%)</th>\n",
              "      <td>-20.743048</td>\n",
              "      <td>1.249608</td>\n",
              "      <td>1.117859</td>\n",
              "      <td>-18.556057</td>\n",
              "    </tr>\n",
              "    <tr>\n",
              "      <th>Risk Parity</th>\n",
              "      <td>4.909641</td>\n",
              "      <td>0.000008</td>\n",
              "      <td>0.002749</td>\n",
              "      <td>1785.661031</td>\n",
              "    </tr>\n",
              "    <tr>\n",
              "      <th>Market</th>\n",
              "      <td>7.375674</td>\n",
              "      <td>13.727938</td>\n",
              "      <td>3.705123</td>\n",
              "      <td>1.990669</td>\n",
              "    </tr>\n",
              "  </tbody>\n",
              "</table>\n",
              "</div>\n",
              "      <button class=\"colab-df-convert\" onclick=\"convertToInteractive('df-f05ab516-906c-4350-9463-8b135a9ada18')\"\n",
              "              title=\"Convert this dataframe to an interactive table.\"\n",
              "              style=\"display:none;\">\n",
              "        \n",
              "  <svg xmlns=\"http://www.w3.org/2000/svg\" height=\"24px\"viewBox=\"0 0 24 24\"\n",
              "       width=\"24px\">\n",
              "    <path d=\"M0 0h24v24H0V0z\" fill=\"none\"/>\n",
              "    <path d=\"M18.56 5.44l.94 2.06.94-2.06 2.06-.94-2.06-.94-.94-2.06-.94 2.06-2.06.94zm-11 1L8.5 8.5l.94-2.06 2.06-.94-2.06-.94L8.5 2.5l-.94 2.06-2.06.94zm10 10l.94 2.06.94-2.06 2.06-.94-2.06-.94-.94-2.06-.94 2.06-2.06.94z\"/><path d=\"M17.41 7.96l-1.37-1.37c-.4-.4-.92-.59-1.43-.59-.52 0-1.04.2-1.43.59L10.3 9.45l-7.72 7.72c-.78.78-.78 2.05 0 2.83L4 21.41c.39.39.9.59 1.41.59.51 0 1.02-.2 1.41-.59l7.78-7.78 2.81-2.81c.8-.78.8-2.07 0-2.86zM5.41 20L4 18.59l7.72-7.72 1.47 1.35L5.41 20z\"/>\n",
              "  </svg>\n",
              "      </button>\n",
              "      \n",
              "  <style>\n",
              "    .colab-df-container {\n",
              "      display:flex;\n",
              "      flex-wrap:wrap;\n",
              "      gap: 12px;\n",
              "    }\n",
              "\n",
              "    .colab-df-convert {\n",
              "      background-color: #E8F0FE;\n",
              "      border: none;\n",
              "      border-radius: 50%;\n",
              "      cursor: pointer;\n",
              "      display: none;\n",
              "      fill: #1967D2;\n",
              "      height: 32px;\n",
              "      padding: 0 0 0 0;\n",
              "      width: 32px;\n",
              "    }\n",
              "\n",
              "    .colab-df-convert:hover {\n",
              "      background-color: #E2EBFA;\n",
              "      box-shadow: 0px 1px 2px rgba(60, 64, 67, 0.3), 0px 1px 3px 1px rgba(60, 64, 67, 0.15);\n",
              "      fill: #174EA6;\n",
              "    }\n",
              "\n",
              "    [theme=dark] .colab-df-convert {\n",
              "      background-color: #3B4455;\n",
              "      fill: #D2E3FC;\n",
              "    }\n",
              "\n",
              "    [theme=dark] .colab-df-convert:hover {\n",
              "      background-color: #434B5C;\n",
              "      box-shadow: 0px 1px 3px 1px rgba(0, 0, 0, 0.15);\n",
              "      filter: drop-shadow(0px 1px 2px rgba(0, 0, 0, 0.3));\n",
              "      fill: #FFFFFF;\n",
              "    }\n",
              "  </style>\n",
              "\n",
              "      <script>\n",
              "        const buttonEl =\n",
              "          document.querySelector('#df-f05ab516-906c-4350-9463-8b135a9ada18 button.colab-df-convert');\n",
              "        buttonEl.style.display =\n",
              "          google.colab.kernel.accessAllowed ? 'block' : 'none';\n",
              "\n",
              "        async function convertToInteractive(key) {\n",
              "          const element = document.querySelector('#df-f05ab516-906c-4350-9463-8b135a9ada18');\n",
              "          const dataTable =\n",
              "            await google.colab.kernel.invokeFunction('convertToInteractive',\n",
              "                                                     [key], {});\n",
              "          if (!dataTable) return;\n",
              "\n",
              "          const docLinkHtml = 'Like what you see? Visit the ' +\n",
              "            '<a target=\"_blank\" href=https://colab.research.google.com/notebooks/data_table.ipynb>data table notebook</a>'\n",
              "            + ' to learn more about interactive tables.';\n",
              "          element.innerHTML = '';\n",
              "          dataTable['output_type'] = 'display_data';\n",
              "          await google.colab.output.renderOutput(dataTable, element);\n",
              "          const docLink = document.createElement('div');\n",
              "          docLink.innerHTML = docLinkHtml;\n",
              "          element.appendChild(docLink);\n",
              "        }\n",
              "      </script>\n",
              "    </div>\n",
              "  </div>\n",
              "  "
            ]
          },
          "metadata": {},
          "execution_count": 32
        }
      ],
      "source": [
        "Q5 = data5[2]\n",
        "std5 = data5[1]\n",
        "mu5 = data5[0]\n",
        "\n",
        "market_portfolio = Market_portfolio (market_capitalizations,Q5,mu5)\n",
        "wmkt = market_portfolio[0]\n",
        "marketVariance = market_portfolio[1]\n",
        "marketReturn = market_portfolio[2]\n",
        "\n",
        "λ = (marketReturn-riskfreerate_5)/marketVariance\n",
        "lambda_val=λ\n",
        "\n",
        "\n",
        "e = np.zeros((n, n))\n",
        "for i in range(n):\n",
        "    e[i, i] = std5[i] / (4 ** 0.5)\n",
        "e = 1.6448536269514722* e\n",
        "e = np.diag(e)\n",
        "e_2 = 1.96* e\n",
        "\n",
        "data_June_Sep = data_3(mu5,Q5,riskfreerate_5,wmkt,return_Oct_2011,lambda_val,e,e_2)\n",
        "data_June_Sep"
      ]
    },
    {
      "cell_type": "markdown",
      "metadata": {
        "id": "1mvkjWridlgH"
      },
      "source": [
        "##### July 2011 to October 2011"
      ]
    },
    {
      "cell_type": "code",
      "execution_count": 33,
      "metadata": {
        "id": "Bgx_ejqjdlgI"
      },
      "outputs": [],
      "source": [
        "start_date = \"2011-06-29\"\n",
        "end_date = \"2011-11-01\"\n",
        "data6 = data(tickers,start_date,end_date)\n",
        "riskfreerate_6 = risk_free_rate(riskfreerate_tickers,start_date,end_date)"
      ]
    },
    {
      "cell_type": "code",
      "execution_count": 34,
      "metadata": {
        "id": "8-yY30I9dlgI"
      },
      "outputs": [],
      "source": [
        "start_date = \"2011-10-29\"\n",
        "end_date = \"2011-12-01\"\n",
        "return_NOv_2011= data (tickers,start_date,end_date)\n",
        "return_NOv_2011 = return_NOv_2011[0]"
      ]
    },
    {
      "cell_type": "code",
      "execution_count": 35,
      "metadata": {
        "id": "Aj-yQB3LdlgK",
        "colab": {
          "base_uri": "https://localhost:8080/",
          "height": 295
        },
        "outputId": "2c07402c-dd37-4abd-b996-0970f3e40296"
      },
      "outputs": [
        {
          "output_type": "stream",
          "name": "stdout",
          "text": [
            "portfolio_return = 5.928381008718556 portfolio_variance= 4.24970198736942 portfolio_std= 2.061480532862103 sharpe_ratio= 2.8757880145915102\n",
            "portfolio_return = 11.62139527367318 portfolio_variance= 1.3622754732683586 portfolio_std= 1.1671655723453973 sharpe_ratio= 9.95693802921226\n",
            "portfolio_return = 11.62139527367318 portfolio_variance= 1.3622754732683586 portfolio_std= 1.1671655723453973 sharpe_ratio= 9.95693802921226\n",
            "portfolio_return = 4.411226911867347 portfolio_variance= 5.185557841728522 portfolio_std= 2.277181995741342 sharpe_ratio= 1.937142889815999\n",
            "portfolio_return = 7.375674043147986 portfolio_variance= 30.554523151135406 portfolio_std= 5.527614598643379 sharpe_ratio= 1.3343321810023023\n"
          ]
        },
        {
          "output_type": "execute_result",
          "data": {
            "text/plain": [
              "                            Return   Variance  Standard Deviation  \\\n",
              "Mean Variance             5.928381   4.249702            2.061481   \n",
              "Robust Mean Varian(90%)  11.621395   1.362275            1.167166   \n",
              "Robust Mean Varian(95%)  11.621395   1.362275            1.167166   \n",
              "Risk Parity               4.411227   5.185558            2.277182   \n",
              "Market                    7.375674  30.554523            5.527615   \n",
              "\n",
              "                         Sharpe Ratio  \n",
              "Mean Variance                2.875788  \n",
              "Robust Mean Varian(90%)      9.956938  \n",
              "Robust Mean Varian(95%)      9.956938  \n",
              "Risk Parity                  1.937143  \n",
              "Market                       1.334332  "
            ],
            "text/html": [
              "\n",
              "  <div id=\"df-b31fa699-a3cc-4bc0-b5d2-3cba97da232e\">\n",
              "    <div class=\"colab-df-container\">\n",
              "      <div>\n",
              "<style scoped>\n",
              "    .dataframe tbody tr th:only-of-type {\n",
              "        vertical-align: middle;\n",
              "    }\n",
              "\n",
              "    .dataframe tbody tr th {\n",
              "        vertical-align: top;\n",
              "    }\n",
              "\n",
              "    .dataframe thead th {\n",
              "        text-align: right;\n",
              "    }\n",
              "</style>\n",
              "<table border=\"1\" class=\"dataframe\">\n",
              "  <thead>\n",
              "    <tr style=\"text-align: right;\">\n",
              "      <th></th>\n",
              "      <th>Return</th>\n",
              "      <th>Variance</th>\n",
              "      <th>Standard Deviation</th>\n",
              "      <th>Sharpe Ratio</th>\n",
              "    </tr>\n",
              "  </thead>\n",
              "  <tbody>\n",
              "    <tr>\n",
              "      <th>Mean Variance</th>\n",
              "      <td>5.928381</td>\n",
              "      <td>4.249702</td>\n",
              "      <td>2.061481</td>\n",
              "      <td>2.875788</td>\n",
              "    </tr>\n",
              "    <tr>\n",
              "      <th>Robust Mean Varian(90%)</th>\n",
              "      <td>11.621395</td>\n",
              "      <td>1.362275</td>\n",
              "      <td>1.167166</td>\n",
              "      <td>9.956938</td>\n",
              "    </tr>\n",
              "    <tr>\n",
              "      <th>Robust Mean Varian(95%)</th>\n",
              "      <td>11.621395</td>\n",
              "      <td>1.362275</td>\n",
              "      <td>1.167166</td>\n",
              "      <td>9.956938</td>\n",
              "    </tr>\n",
              "    <tr>\n",
              "      <th>Risk Parity</th>\n",
              "      <td>4.411227</td>\n",
              "      <td>5.185558</td>\n",
              "      <td>2.277182</td>\n",
              "      <td>1.937143</td>\n",
              "    </tr>\n",
              "    <tr>\n",
              "      <th>Market</th>\n",
              "      <td>7.375674</td>\n",
              "      <td>30.554523</td>\n",
              "      <td>5.527615</td>\n",
              "      <td>1.334332</td>\n",
              "    </tr>\n",
              "  </tbody>\n",
              "</table>\n",
              "</div>\n",
              "      <button class=\"colab-df-convert\" onclick=\"convertToInteractive('df-b31fa699-a3cc-4bc0-b5d2-3cba97da232e')\"\n",
              "              title=\"Convert this dataframe to an interactive table.\"\n",
              "              style=\"display:none;\">\n",
              "        \n",
              "  <svg xmlns=\"http://www.w3.org/2000/svg\" height=\"24px\"viewBox=\"0 0 24 24\"\n",
              "       width=\"24px\">\n",
              "    <path d=\"M0 0h24v24H0V0z\" fill=\"none\"/>\n",
              "    <path d=\"M18.56 5.44l.94 2.06.94-2.06 2.06-.94-2.06-.94-.94-2.06-.94 2.06-2.06.94zm-11 1L8.5 8.5l.94-2.06 2.06-.94-2.06-.94L8.5 2.5l-.94 2.06-2.06.94zm10 10l.94 2.06.94-2.06 2.06-.94-2.06-.94-.94-2.06-.94 2.06-2.06.94z\"/><path d=\"M17.41 7.96l-1.37-1.37c-.4-.4-.92-.59-1.43-.59-.52 0-1.04.2-1.43.59L10.3 9.45l-7.72 7.72c-.78.78-.78 2.05 0 2.83L4 21.41c.39.39.9.59 1.41.59.51 0 1.02-.2 1.41-.59l7.78-7.78 2.81-2.81c.8-.78.8-2.07 0-2.86zM5.41 20L4 18.59l7.72-7.72 1.47 1.35L5.41 20z\"/>\n",
              "  </svg>\n",
              "      </button>\n",
              "      \n",
              "  <style>\n",
              "    .colab-df-container {\n",
              "      display:flex;\n",
              "      flex-wrap:wrap;\n",
              "      gap: 12px;\n",
              "    }\n",
              "\n",
              "    .colab-df-convert {\n",
              "      background-color: #E8F0FE;\n",
              "      border: none;\n",
              "      border-radius: 50%;\n",
              "      cursor: pointer;\n",
              "      display: none;\n",
              "      fill: #1967D2;\n",
              "      height: 32px;\n",
              "      padding: 0 0 0 0;\n",
              "      width: 32px;\n",
              "    }\n",
              "\n",
              "    .colab-df-convert:hover {\n",
              "      background-color: #E2EBFA;\n",
              "      box-shadow: 0px 1px 2px rgba(60, 64, 67, 0.3), 0px 1px 3px 1px rgba(60, 64, 67, 0.15);\n",
              "      fill: #174EA6;\n",
              "    }\n",
              "\n",
              "    [theme=dark] .colab-df-convert {\n",
              "      background-color: #3B4455;\n",
              "      fill: #D2E3FC;\n",
              "    }\n",
              "\n",
              "    [theme=dark] .colab-df-convert:hover {\n",
              "      background-color: #434B5C;\n",
              "      box-shadow: 0px 1px 3px 1px rgba(0, 0, 0, 0.15);\n",
              "      filter: drop-shadow(0px 1px 2px rgba(0, 0, 0, 0.3));\n",
              "      fill: #FFFFFF;\n",
              "    }\n",
              "  </style>\n",
              "\n",
              "      <script>\n",
              "        const buttonEl =\n",
              "          document.querySelector('#df-b31fa699-a3cc-4bc0-b5d2-3cba97da232e button.colab-df-convert');\n",
              "        buttonEl.style.display =\n",
              "          google.colab.kernel.accessAllowed ? 'block' : 'none';\n",
              "\n",
              "        async function convertToInteractive(key) {\n",
              "          const element = document.querySelector('#df-b31fa699-a3cc-4bc0-b5d2-3cba97da232e');\n",
              "          const dataTable =\n",
              "            await google.colab.kernel.invokeFunction('convertToInteractive',\n",
              "                                                     [key], {});\n",
              "          if (!dataTable) return;\n",
              "\n",
              "          const docLinkHtml = 'Like what you see? Visit the ' +\n",
              "            '<a target=\"_blank\" href=https://colab.research.google.com/notebooks/data_table.ipynb>data table notebook</a>'\n",
              "            + ' to learn more about interactive tables.';\n",
              "          element.innerHTML = '';\n",
              "          dataTable['output_type'] = 'display_data';\n",
              "          await google.colab.output.renderOutput(dataTable, element);\n",
              "          const docLink = document.createElement('div');\n",
              "          docLink.innerHTML = docLinkHtml;\n",
              "          element.appendChild(docLink);\n",
              "        }\n",
              "      </script>\n",
              "    </div>\n",
              "  </div>\n",
              "  "
            ]
          },
          "metadata": {},
          "execution_count": 35
        }
      ],
      "source": [
        "Q6 = data6[2]\n",
        "std6 = data6[1]\n",
        "mu6 = data6[0]\n",
        "\n",
        "market_portfolio = Market_portfolio (market_capitalizations,Q6,mu6)\n",
        "wmkt = market_portfolio[0]\n",
        "marketVariance = market_portfolio[1]\n",
        "marketReturn = market_portfolio[2]\n",
        "\n",
        "λ = (marketReturn-riskfreerate_6)/marketVariance\n",
        "lambda_val=λ\n",
        "\n",
        "\n",
        "f = np.zeros((n, n))\n",
        "for i in range(n):\n",
        "    f[i, i] = std6[i] / (4 ** 0.5)\n",
        "f = 1.6448536269514722* f\n",
        "f = np.diag(f)\n",
        "f_2 = 1.96* f\n",
        "\n",
        "\n",
        "\n",
        "data_July_Oct = data_3(mu6,Q6,riskfreerate_6,wmkt,return_Oct_2011,lambda_val,f,f_2)\n",
        "data_July_Oct"
      ]
    },
    {
      "cell_type": "code",
      "execution_count": 36,
      "metadata": {
        "id": "aW2RYW-QdlgL",
        "colab": {
          "base_uri": "https://localhost:8080/",
          "height": 305
        },
        "outputId": "ab4a5d0b-869a-4fd4-f188-d2e4f0981892"
      },
      "outputs": [
        {
          "output_type": "execute_result",
          "data": {
            "text/plain": [
              "       Month  Mean_Variance_Return  Robust Mean Varian(90%)_Return  \\\n",
              "0       July              1.118034                       -9.436949   \n",
              "1     August              3.473449                       32.529171   \n",
              "2  September             -2.716388                       29.128668   \n",
              "3    October              3.666172                      -20.743048   \n",
              "4   November              5.928381                       11.621395   \n",
              "\n",
              "   Robust Mean Varian(95%)_Return  Risk Parity_Return  \\\n",
              "0                       -9.436949           -1.119543   \n",
              "1                       32.529171            3.664464   \n",
              "2                       29.128668           -5.861624   \n",
              "3                      -20.743048            4.909641   \n",
              "4                       11.621395            4.411227   \n",
              "\n",
              "   Market Portfolio_Return  Mean_Variance_Sharpe Ratio  \\\n",
              "0                 5.629376                    0.611662   \n",
              "1                -1.831380                    8.574281   \n",
              "2                -3.920551                   -3.202786   \n",
              "3                 7.375674                    6.227710   \n",
              "4                 7.375674                    2.875788   \n",
              "\n",
              "   Robust Mean Varian(90%)_Sharpe Ratio  Robust Mean Varian(95%)_Sharpe Ratio  \\\n",
              "0                             -3.588034                             -3.588034   \n",
              "1                             30.202933                             30.202933   \n",
              "2                             20.676218                             20.676218   \n",
              "3                            -18.556057                            -18.556057   \n",
              "4                              9.956938                              9.956938   \n",
              "\n",
              "   Risk Parity_Sharpe Ratio  Market Portfolio_Sharpe Ratio  \n",
              "0                 -0.901614                       2.343273  \n",
              "1               9008.543306                      -0.512959  \n",
              "2             -11294.975504                      -1.050685  \n",
              "3               1785.661031                       1.990669  \n",
              "4                  1.937143                       1.334332  "
            ],
            "text/html": [
              "\n",
              "  <div id=\"df-ffc4d50c-b5e5-4800-a948-af5c9f1fa2bc\">\n",
              "    <div class=\"colab-df-container\">\n",
              "      <div>\n",
              "<style scoped>\n",
              "    .dataframe tbody tr th:only-of-type {\n",
              "        vertical-align: middle;\n",
              "    }\n",
              "\n",
              "    .dataframe tbody tr th {\n",
              "        vertical-align: top;\n",
              "    }\n",
              "\n",
              "    .dataframe thead th {\n",
              "        text-align: right;\n",
              "    }\n",
              "</style>\n",
              "<table border=\"1\" class=\"dataframe\">\n",
              "  <thead>\n",
              "    <tr style=\"text-align: right;\">\n",
              "      <th></th>\n",
              "      <th>Month</th>\n",
              "      <th>Mean_Variance_Return</th>\n",
              "      <th>Robust Mean Varian(90%)_Return</th>\n",
              "      <th>Robust Mean Varian(95%)_Return</th>\n",
              "      <th>Risk Parity_Return</th>\n",
              "      <th>Market Portfolio_Return</th>\n",
              "      <th>Mean_Variance_Sharpe Ratio</th>\n",
              "      <th>Robust Mean Varian(90%)_Sharpe Ratio</th>\n",
              "      <th>Robust Mean Varian(95%)_Sharpe Ratio</th>\n",
              "      <th>Risk Parity_Sharpe Ratio</th>\n",
              "      <th>Market Portfolio_Sharpe Ratio</th>\n",
              "    </tr>\n",
              "  </thead>\n",
              "  <tbody>\n",
              "    <tr>\n",
              "      <th>0</th>\n",
              "      <td>July</td>\n",
              "      <td>1.118034</td>\n",
              "      <td>-9.436949</td>\n",
              "      <td>-9.436949</td>\n",
              "      <td>-1.119543</td>\n",
              "      <td>5.629376</td>\n",
              "      <td>0.611662</td>\n",
              "      <td>-3.588034</td>\n",
              "      <td>-3.588034</td>\n",
              "      <td>-0.901614</td>\n",
              "      <td>2.343273</td>\n",
              "    </tr>\n",
              "    <tr>\n",
              "      <th>1</th>\n",
              "      <td>August</td>\n",
              "      <td>3.473449</td>\n",
              "      <td>32.529171</td>\n",
              "      <td>32.529171</td>\n",
              "      <td>3.664464</td>\n",
              "      <td>-1.831380</td>\n",
              "      <td>8.574281</td>\n",
              "      <td>30.202933</td>\n",
              "      <td>30.202933</td>\n",
              "      <td>9008.543306</td>\n",
              "      <td>-0.512959</td>\n",
              "    </tr>\n",
              "    <tr>\n",
              "      <th>2</th>\n",
              "      <td>September</td>\n",
              "      <td>-2.716388</td>\n",
              "      <td>29.128668</td>\n",
              "      <td>29.128668</td>\n",
              "      <td>-5.861624</td>\n",
              "      <td>-3.920551</td>\n",
              "      <td>-3.202786</td>\n",
              "      <td>20.676218</td>\n",
              "      <td>20.676218</td>\n",
              "      <td>-11294.975504</td>\n",
              "      <td>-1.050685</td>\n",
              "    </tr>\n",
              "    <tr>\n",
              "      <th>3</th>\n",
              "      <td>October</td>\n",
              "      <td>3.666172</td>\n",
              "      <td>-20.743048</td>\n",
              "      <td>-20.743048</td>\n",
              "      <td>4.909641</td>\n",
              "      <td>7.375674</td>\n",
              "      <td>6.227710</td>\n",
              "      <td>-18.556057</td>\n",
              "      <td>-18.556057</td>\n",
              "      <td>1785.661031</td>\n",
              "      <td>1.990669</td>\n",
              "    </tr>\n",
              "    <tr>\n",
              "      <th>4</th>\n",
              "      <td>November</td>\n",
              "      <td>5.928381</td>\n",
              "      <td>11.621395</td>\n",
              "      <td>11.621395</td>\n",
              "      <td>4.411227</td>\n",
              "      <td>7.375674</td>\n",
              "      <td>2.875788</td>\n",
              "      <td>9.956938</td>\n",
              "      <td>9.956938</td>\n",
              "      <td>1.937143</td>\n",
              "      <td>1.334332</td>\n",
              "    </tr>\n",
              "  </tbody>\n",
              "</table>\n",
              "</div>\n",
              "      <button class=\"colab-df-convert\" onclick=\"convertToInteractive('df-ffc4d50c-b5e5-4800-a948-af5c9f1fa2bc')\"\n",
              "              title=\"Convert this dataframe to an interactive table.\"\n",
              "              style=\"display:none;\">\n",
              "        \n",
              "  <svg xmlns=\"http://www.w3.org/2000/svg\" height=\"24px\"viewBox=\"0 0 24 24\"\n",
              "       width=\"24px\">\n",
              "    <path d=\"M0 0h24v24H0V0z\" fill=\"none\"/>\n",
              "    <path d=\"M18.56 5.44l.94 2.06.94-2.06 2.06-.94-2.06-.94-.94-2.06-.94 2.06-2.06.94zm-11 1L8.5 8.5l.94-2.06 2.06-.94-2.06-.94L8.5 2.5l-.94 2.06-2.06.94zm10 10l.94 2.06.94-2.06 2.06-.94-2.06-.94-.94-2.06-.94 2.06-2.06.94z\"/><path d=\"M17.41 7.96l-1.37-1.37c-.4-.4-.92-.59-1.43-.59-.52 0-1.04.2-1.43.59L10.3 9.45l-7.72 7.72c-.78.78-.78 2.05 0 2.83L4 21.41c.39.39.9.59 1.41.59.51 0 1.02-.2 1.41-.59l7.78-7.78 2.81-2.81c.8-.78.8-2.07 0-2.86zM5.41 20L4 18.59l7.72-7.72 1.47 1.35L5.41 20z\"/>\n",
              "  </svg>\n",
              "      </button>\n",
              "      \n",
              "  <style>\n",
              "    .colab-df-container {\n",
              "      display:flex;\n",
              "      flex-wrap:wrap;\n",
              "      gap: 12px;\n",
              "    }\n",
              "\n",
              "    .colab-df-convert {\n",
              "      background-color: #E8F0FE;\n",
              "      border: none;\n",
              "      border-radius: 50%;\n",
              "      cursor: pointer;\n",
              "      display: none;\n",
              "      fill: #1967D2;\n",
              "      height: 32px;\n",
              "      padding: 0 0 0 0;\n",
              "      width: 32px;\n",
              "    }\n",
              "\n",
              "    .colab-df-convert:hover {\n",
              "      background-color: #E2EBFA;\n",
              "      box-shadow: 0px 1px 2px rgba(60, 64, 67, 0.3), 0px 1px 3px 1px rgba(60, 64, 67, 0.15);\n",
              "      fill: #174EA6;\n",
              "    }\n",
              "\n",
              "    [theme=dark] .colab-df-convert {\n",
              "      background-color: #3B4455;\n",
              "      fill: #D2E3FC;\n",
              "    }\n",
              "\n",
              "    [theme=dark] .colab-df-convert:hover {\n",
              "      background-color: #434B5C;\n",
              "      box-shadow: 0px 1px 3px 1px rgba(0, 0, 0, 0.15);\n",
              "      filter: drop-shadow(0px 1px 2px rgba(0, 0, 0, 0.3));\n",
              "      fill: #FFFFFF;\n",
              "    }\n",
              "  </style>\n",
              "\n",
              "      <script>\n",
              "        const buttonEl =\n",
              "          document.querySelector('#df-ffc4d50c-b5e5-4800-a948-af5c9f1fa2bc button.colab-df-convert');\n",
              "        buttonEl.style.display =\n",
              "          google.colab.kernel.accessAllowed ? 'block' : 'none';\n",
              "\n",
              "        async function convertToInteractive(key) {\n",
              "          const element = document.querySelector('#df-ffc4d50c-b5e5-4800-a948-af5c9f1fa2bc');\n",
              "          const dataTable =\n",
              "            await google.colab.kernel.invokeFunction('convertToInteractive',\n",
              "                                                     [key], {});\n",
              "          if (!dataTable) return;\n",
              "\n",
              "          const docLinkHtml = 'Like what you see? Visit the ' +\n",
              "            '<a target=\"_blank\" href=https://colab.research.google.com/notebooks/data_table.ipynb>data table notebook</a>'\n",
              "            + ' to learn more about interactive tables.';\n",
              "          element.innerHTML = '';\n",
              "          dataTable['output_type'] = 'display_data';\n",
              "          await google.colab.output.renderOutput(dataTable, element);\n",
              "          const docLink = document.createElement('div');\n",
              "          docLink.innerHTML = docLinkHtml;\n",
              "          element.appendChild(docLink);\n",
              "        }\n",
              "      </script>\n",
              "    </div>\n",
              "  </div>\n",
              "  "
            ]
          },
          "metadata": {},
          "execution_count": 36
        }
      ],
      "source": [
        "df_portolio = pd.DataFrame ({\"Month\":[\"July\",\"August\",\"September\",\"October\",\"November\"],\n",
        "                           \"Mean_Variance_Return\":[data_Jan_June.iloc[0,0],data_April_July.iloc[0,0],\n",
        "                           data_May_Aug.iloc[0,0],data_June_Sep.iloc[0,0],data_July_Oct.iloc[0,0]],           \n",
        "                                       \n",
        "                                       \n",
        "                           \"Robust Mean Varian(90%)_Return\":[data_Jan_June.iloc[1,0],data_April_July.iloc[1,0],\n",
        "                                     data_May_Aug.iloc[1,0],data_June_Sep.iloc[1,0],data_July_Oct.iloc[1,0]],\n",
        "                           \n",
        "                           \"Robust Mean Varian(95%)_Return\":[data_Jan_June.iloc[2,0],data_April_July.iloc[2,0],\n",
        "                                     data_May_Aug.iloc[2,0],data_June_Sep.iloc[2,0],data_July_Oct.iloc[2,0]],\n",
        "                                       \n",
        "                           \"Risk Parity_Return\":[data_Jan_June.iloc[3,0],data_April_July.iloc[3,0],\n",
        "                                     data_May_Aug.iloc[3,0],data_June_Sep.iloc[3,0],data_July_Oct.iloc[3,0]], \n",
        "                                       \n",
        "                           \"Market Portfolio_Return\":[data_Jan_June.iloc[4,0],data_April_July.iloc[4,0],\n",
        "                            data_May_Aug.iloc[4,0],data_June_Sep.iloc[4,0],data_July_Oct.iloc[4,0]], \n",
        "                                      \n",
        "                                                                  \n",
        "                           \"Mean_Variance_Sharpe Ratio\": [data_Jan_June.iloc[0,3],data_April_July.iloc[0,3],\n",
        "                                     data_May_Aug.iloc[0,3],data_June_Sep.iloc[0,3],data_July_Oct.iloc[0,3]],\n",
        "                                                                 \n",
        "                                       \n",
        "                           \"Robust Mean Varian(90%)_Sharpe Ratio\":[data_Jan_June.iloc[1,3],data_April_July.iloc[1,3],\n",
        "                                     data_May_Aug.iloc[1,3],data_June_Sep.iloc[1,3],data_July_Oct.iloc[1,3]],\n",
        "                           \n",
        "                           \"Robust Mean Varian(95%)_Sharpe Ratio\":[data_Jan_June.iloc[2,3],data_April_July.iloc[2,3],\n",
        "                                     data_May_Aug.iloc[2,3],data_June_Sep.iloc[2,3],data_July_Oct.iloc[2,3]],\n",
        "                                       \n",
        "                           \"Risk Parity_Sharpe Ratio\":[data_Jan_June.iloc[3,3],data_April_July.iloc[3,3],\n",
        "                                     data_May_Aug.iloc[3,3],data_June_Sep.iloc[3,3],data_July_Oct.iloc[3,3]], \n",
        "                                       \n",
        "                           \"Market Portfolio_Sharpe Ratio\":[data_Jan_June.iloc[4,3],data_April_July.iloc[4,3],\n",
        "                            data_May_Aug.iloc[4,3],data_June_Sep.iloc[4,3],data_July_Oct.iloc[4,3]]}) \n",
        "df_portolio"
      ]
    },
    {
      "cell_type": "code",
      "execution_count": 37,
      "metadata": {
        "id": "prteRA_ldlgM",
        "colab": {
          "base_uri": "https://localhost:8080/",
          "height": 564
        },
        "outputId": "99d9a775-91c1-490f-e4eb-dbbff553c8c9"
      },
      "outputs": [
        {
          "output_type": "display_data",
          "data": {
            "text/plain": [
              "<Figure size 1000x600 with 1 Axes>"
            ],
            "image/png": "[encoded data removed]"
          },
          "metadata": {}
        }
      ],
      "source": [
        "df_return = df_portolio.iloc[:,0:6]\n",
        "df_return.set_index('Month', inplace=True)  # Set 'Month' as the index\n",
        "\n",
        "# Calculate cumulative returns for each column\n",
        "cumulative_returns = df_return.cumsum()\n",
        "\n",
        "# Plot cumulative returns for each portfolio\n",
        "fig, ax = plt.subplots(figsize=(10, 6))\n",
        "cumulative_returns.plot(ax=ax)\n",
        "\n",
        "# Set plot labels and title\n",
        "ax.set_xlabel('Month')\n",
        "ax.set_ylabel('Cumulative Return')\n",
        "ax.set_title('Cumulative Returns for Portfolios')\n",
        "\n",
        "# Display the plot\n",
        "plt.show()"
      ]
    },
    {
      "cell_type": "code",
      "source": [
        "df_sharpe_ratio =df_portolio.iloc[:,6:11]\n",
        "\n",
        "# Data for Sharpe Ratios\n",
        "x = [\"July\", \"August\", \"September\", \"October\", \"November\"]\n",
        "y1 = df_sharpe_ratio.iloc[:, 0]\n",
        "y2 = df_sharpe_ratio.iloc[:, 1]\n",
        "y3 = df_sharpe_ratio.iloc[:, 2]\n",
        "y4 = df_sharpe_ratio.iloc[:, 3]\n",
        "z = df_sharpe_ratio.iloc[:, 4]\n",
        "\n",
        "# Creating subplots\n",
        "fig, axs = plt.subplots(1, 4, figsize=(15, 4))\n",
        "\n",
        "# Plotting the lines\n",
        "axs[0].plot(x, y1, marker='o')\n",
        "axs[0].plot(x, z, marker='o')\n",
        "axs[0].set_title('Mean Variance Sharpe Ratio')\n",
        "\n",
        "axs[1].plot(x, y2, marker='o')\n",
        "axs[1].plot(x, z, marker='o')\n",
        "axs[1].set_title('Robust Mean Varian(90%) Sharpe Ratio')\n",
        "\n",
        "axs[2].plot(x, y3, marker='o')\n",
        "axs[2].plot(x, z, marker='o')\n",
        "axs[2].set_title('Robust Mean Varian(95%) Sharpe Ratio')\n",
        "\n",
        "axs[3].plot(x, y4, marker='o')\n",
        "axs[3].plot(x, z, marker='o')\n",
        "axs[3].set_title('Risk Parity Sharpe Ratio')\n",
        "\n",
        "\n",
        "\n",
        "\n",
        "plt.tight_layout()\n",
        "for ax in axs:\n",
        "    ax.set_xticklabels(ax.get_xticklabels(), rotation=45)\n",
        "\n",
        "plt.show()\n"
      ],
      "metadata": {
        "colab": {
          "base_uri": "https://localhost:8080/",
          "height": 410
        },
        "id": "G0je5SxRlZUM",
        "outputId": "cf48995f-7129-4fca-9b0b-907cbd869e3b"
      },
      "execution_count": 44,
      "outputs": [
        {
          "output_type": "display_data",
          "data": {
            "text/plain": [
              "<Figure size 1500x400 with 4 Axes>"
            ],
            "image/png": "[encoded data removed]"
          },
          "metadata": {}
        }
      ]
    }
  ],
  "metadata": {
    "kernelspec": {
      "display_name": "Python 3 (ipykernel)",
      "language": "python",
      "name": "python3"
    },
    "language_info": {
      "codemirror_mode": {
        "name": "ipython",
        "version": 3
      },
      "file_extension": ".py",
      "mimetype": "text/x-python",
      "name": "python",
      "nbconvert_exporter": "python",
      "pygments_lexer": "ipython3",
      "version": "3.9.16"
    },
    "colab": {
      "provenance": []
    }
  },
  "nbformat": 4,
  "nbformat_minor": 0
}